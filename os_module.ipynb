{
 "cells": [
  {
   "cell_type": "markdown",
   "metadata": {},
   "source": [
    "# OS Module"
   ]
  },
  {
   "cell_type": "code",
   "execution_count": 1,
   "metadata": {},
   "outputs": [],
   "source": [
    "import os # importing os module"
   ]
  },
  {
   "cell_type": "code",
   "execution_count": 2,
   "metadata": {},
   "outputs": [
    {
     "data": {
      "text/plain": [
       "'d:\\\\Ahmed\\\\Work\\\\os'"
      ]
     },
     "execution_count": 2,
     "metadata": {},
     "output_type": "execute_result"
    }
   ],
   "source": [
    "os.getcwd() # tell us what direcrory we are in "
   ]
  },
  {
   "cell_type": "code",
   "execution_count": 3,
   "metadata": {},
   "outputs": [
    {
     "name": "stderr",
     "output_type": "stream",
     "text": [
      "<>:1: SyntaxWarning: invalid escape sequence '\\A'\n",
      "<>:1: SyntaxWarning: invalid escape sequence '\\A'\n",
      "C:\\Users\\ak958\\AppData\\Local\\Temp\\ipykernel_7316\\1318892140.py:1: SyntaxWarning: invalid escape sequence '\\A'\n",
      "  os.chdir(\"D:\\Ahmed\\Database\\A\")\n"
     ]
    }
   ],
   "source": [
    "os.chdir(\"D:\\Ahmed\\Database\\A\") # ! this isn't in the correct format"
   ]
  },
  {
   "cell_type": "code",
   "execution_count": 4,
   "metadata": {},
   "outputs": [],
   "source": [
    "os.chdir(\"D:\\\\Ahmed\\\\Database\\\\A\") # * this is the correct format double \\\\"
   ]
  },
  {
   "cell_type": "code",
   "execution_count": 5,
   "metadata": {},
   "outputs": [
    {
     "data": {
      "text/plain": [
       "'D:\\\\Ahmed\\\\Database\\\\A'"
      ]
     },
     "execution_count": 5,
     "metadata": {},
     "output_type": "execute_result"
    }
   ],
   "source": [
    "os.getcwd()"
   ]
  },
  {
   "cell_type": "code",
   "execution_count": 6,
   "metadata": {},
   "outputs": [],
   "source": [
    "# or we can add R before the path\n",
    "os.chdir(R\"D:\\Ahmed\\Database\\A\")"
   ]
  },
  {
   "cell_type": "code",
   "execution_count": 7,
   "metadata": {},
   "outputs": [
    {
     "data": {
      "text/plain": [
       "'D:\\\\Ahmed\\\\Database\\\\A'"
      ]
     },
     "execution_count": 7,
     "metadata": {},
     "output_type": "execute_result"
    }
   ],
   "source": [
    "os.getcwd()"
   ]
  },
  {
   "cell_type": "code",
   "execution_count": 8,
   "metadata": {},
   "outputs": [
    {
     "data": {
      "text/plain": [
       "['00 - _ MS SQL Server For Beginners _ - _ شرح بالعربى للمبتدئين _ -  _ Introduction _(720P_HD).mp4',\n",
       " '01 - _ MS SQL Server For Beginners _ - _ Installing MS SQL Server and MS Management Studio _(720P_HD).mp4',\n",
       " '02 - _ MS SQL Server For Beginners _ - _ System Databases - Create Your First Database _(720P_HD).mp4',\n",
       " '03 - _ MS SQL Server For Beginners _ - _ What IS SQL _ - Types of SQL commands _(720P_HD).mp4',\n",
       " '04 - _ MS SQL Server For Beginners _ - _ Create Database _ Drop Database commands _(720P_HD).mp4',\n",
       " '05 - _ MS SQL Server For Beginners _ - _ Create Schema _ Drop Schema commands _(720P_HD).mp4',\n",
       " '06 - _ MS SQL Server For Beginners _ - _ Create Table Statement _ - Part 1(720P_HD).mp4',\n",
       " '07 - _ MS SQL Server For Beginners _ - _ Create Table Statement _ - Part 2(720P_HD).mp4',\n",
       " '08 - _ MS SQL Server For Beginners _ - _ Constraints _ - _ Primary Key Constraint _(720P_HD).mp4',\n",
       " '09 - _ MS SQL Server For Beginners _ - _ Constraints _ - _ Unique Constraint _(720P_HD).mp4',\n",
       " '10 - _ MS SQL Server For Beginners _ - _ Constraints _ - _ Check Constraint _(720P_HD).mp4',\n",
       " '11 - _ MS SQL Server For Beginners _ - _ Constraints _ - _ Foreign Key Constraint _(720P_HD).mp4',\n",
       " '12 - _ MS SQL Server For Beginners _ - _ Alter Table Statement _ - Part 1(720P_HD).mp4',\n",
       " '13 - _ MS SQL Server For Beginners _ - _ Alter Table Statement _ - Part 2(720P_HD).mp4',\n",
       " '14 - _ MS SQL Server For Beginners _ - _ Alter Table Statement _ - Rename Table _ Column(720P_HD).mp4',\n",
       " '15 - _ MS SQL Server For Beginners _ - _ Revision On Create _ Alter Table _ - Part 1(720P_HD).mp4',\n",
       " '16 - _ MS SQL Server For Beginners _ - _ Revision On Create _ Alter Table _ - Part 2(720P_HD).mp4',\n",
       " '17 - _ MS SQL Server For Beginners _ - _ Insert into statement - Insert multiple Rows_(720P_HD).mp4',\n",
       " '18 - _ MS SQL Server For Beginners _ - _ Update statement _(720P_HD).mp4',\n",
       " '19 - _ MS SQL Server For Beginners _ - _ Delete statement _(720P_HD).mp4',\n",
       " '20 - _ MS SQL Server For Beginners _ - _ Select statement _ - _ Part 1 _(720P_HD).mp4',\n",
       " '21 - _ MS SQL Server For Beginners _ - _ Select statement _ - _ Part 2 _(720P_HD).mp4',\n",
       " '22 - _ MS SQL Server For Beginners _ - _ Select statement _ - _ Part 3 _(720P_HD).mp4',\n",
       " '23 - _ MS SQL Server For Beginners _ - _ Select Statement  - Distinct keyword_ - _ Part 4 _(720P_HD).mp4',\n",
       " '24 - _ MS SQL Server For Beginners _ - _ Select Statement  - Like Operator _(720P_HD).mp4',\n",
       " '25 - _ MS SQL Server For Beginners _ - _ Sorting Result Set Records - Order by clause _(720P_HD).mp4',\n",
       " '26 - _ MS SQL Server For Beginners _ - _ Join Tables _ - _Inner Join _ Natural Join _(720P_HD).mp4',\n",
       " '27 - _ MS SQL Server For Beginners _ - _ Join Tables _ - _Outer Join _(720P_HD).mp4',\n",
       " '28 - _ MS SQL Server For Beginners _ - _ Join More Than 2 Tables _(720P_HD).mp4',\n",
       " '29 - _ MS SQL Server For Beginners _ - _ Aggregate Functions _ - _Summary Functions_(720P_HD).mp4',\n",
       " '30 - _ MS SQL Server For Beginners _ - _ Group by .. Having_(720P_HD).mp4',\n",
       " '31 - _ MS SQL Server For Beginners _ - _ Join with Group by and Order by _(720P_HD).mp4',\n",
       " '32 - _ MS SQL Server For Beginners _ - _ Select Top Records _(720P_HD).mp4',\n",
       " '33 - _ MS SQL Server For Beginners _ - _ Nested queries - Sub queries _ - _Any _ All _(720P_HD).mp4',\n",
       " '34 - _ MS SQL Server For Beginners _ Views _ - _Create View - Alter View_(720P_HD).mp4',\n",
       " '35 - _ MS SQL Server For Beginners _ - _Revision on SQL Queries_ - _أخر فديو فى الكورس_(720P_HD).mp4',\n",
       " 'AdobePhotoshop2023v24.5.0.500x64.7z',\n",
       " '_ Advanced Topics in SQL Server _ - _ 2nd SQL Server Course _- _ Introduction _(720P_HD).mp4',\n",
       " '_ Advanced Topics in SQL Server _ - _ Built in Functions - Date and Numeric Functions _(720P_HD).mp4',\n",
       " '_ Advanced Topics in SQL Server _ - _ Built in Functions - String Functions_(720P_HD).mp4',\n",
       " '_ Advanced Topics in SQL Server _ - _ Exception Handling _(720P_HD).mp4',\n",
       " '_ Advanced Topics in SQL Server _ - _ How To Use SQL Server Cursors _(720P_HD).mp4',\n",
       " '_ Advanced Topics in SQL Server _ - _ Stored Procedures - Basics _(720P_HD).mp4',\n",
       " '_ Advanced Topics in SQL Server _ - _ Stored Procedures - With Input and Output Parameters_(720P_HD).mp4',\n",
       " '_ Advanced Topics in SQL Server _ - _ T-SQL Programming Constructs _ - _ While - Break _ Continue _(720P_HD).mp4',\n",
       " '_ Advanced Topics in SQL Server _ - _ T-SQL Programming Constructs _ - _Begin - End _ - _ IF - ELSE_(720P_HD).mp4',\n",
       " '_ Advanced Topics in SQL Server _ - _ Table Variables _ Table Valued Functions _(720P_HD).mp4',\n",
       " '_ Advanced Topics in SQL Server _ - _ User Defined Functions _(720P_HD).mp4',\n",
       " '_ Database Course _ - _ Revision on Basic SQL Select Statements _ - Full Video(720P_HD).mp4',\n",
       " '_ Database Course _ - _ Revision on Basic SQL Select Statements _ - _ Part 1_3 _(720P_HD).mp4',\n",
       " '_ Database Course _ - _ Revision on Basic SQL Select Statements _ - _ Part 2_3 _(720P_HD).mp4',\n",
       " '_ Database Course _ - _ Revision on Basic SQL Select Statements _ - _ Part 3_3_(720P_HD).mp4',\n",
       " '_ Hackerrank.com _-_ Practice SQL Queries _- Easy Level - تمارين أونلاين  - المستوى السهل - Part 1(720P_HD).mp4',\n",
       " '_ Hackerrank.com _-_ Practice SQL Queries _- Easy Level - تمارين أونلاين  - المستوى السهل - Part 2(720P_HD).mp4',\n",
       " '_ Hackerrank.com _-_ Practice SQL Queries _- Easy Level - تمارين أونلاين  - المستوى السهل - Part 3(720P_HD).mp4']"
      ]
     },
     "execution_count": 8,
     "metadata": {},
     "output_type": "execute_result"
    }
   ],
   "source": [
    "os.listdir() # display files and folders that i'm currently in"
   ]
  },
  {
   "cell_type": "code",
   "execution_count": 9,
   "metadata": {},
   "outputs": [
    {
     "data": {
      "text/plain": [
       "['Kaiju.No.8.E01.EgyDead.CoM.mp4',\n",
       " 'Kaiju.No.8.E02.EgyDead.CoM.mp4',\n",
       " 'Kaiju.No.8.E03.EgyDead.CoM.mp4',\n",
       " 'Kaijuu.8.gou.E04.EgyDead.CoM.mp4',\n",
       " 'Kaijuu.8.Gou.E05.EgyDead.CoM.mp4',\n",
       " 'Kaijuu.8.gou.E06.EgyDead.CoM.mp4',\n",
       " 'Kaijuu.8.Gou.E09.EgyDead.CoM.mp4',\n",
       " 'Kaijuu.8.gou.E10.EgyDead.CoM.mp4',\n",
       " 'Kaijuu.8.gou.E11.EgyDead.CoM.mp4']"
      ]
     },
     "execution_count": 9,
     "metadata": {},
     "output_type": "execute_result"
    }
   ],
   "source": [
    "# or if i want a specific directory\n",
    "os.listdir(\"D:\\\\kaijuno.8\")"
   ]
  },
  {
   "cell_type": "markdown",
   "metadata": {},
   "source": [
    "### mkdir()"
   ]
  },
  {
   "cell_type": "code",
   "execution_count": 19,
   "metadata": {},
   "outputs": [],
   "source": [
    "# to create new directory\n",
    "os.mkdir(\"D:\\\\Ahmed\\\\Database\\\\A\\\\iii\")"
   ]
  },
  {
   "cell_type": "markdown",
   "metadata": {},
   "source": [
    "### rmdir()"
   ]
  },
  {
   "cell_type": "code",
   "execution_count": 12,
   "metadata": {},
   "outputs": [],
   "source": [
    "os.rmdir(\"D:\\\\Ahmed\\\\Database\\\\A\\\\iii\") # to remove directory \n",
    "# ! only for folder"
   ]
  },
  {
   "cell_type": "markdown",
   "metadata": {},
   "source": [
    "### remove()"
   ]
  },
  {
   "cell_type": "code",
   "execution_count": 13,
   "metadata": {},
   "outputs": [
    {
     "data": {
      "text/plain": [
       "'D:\\\\Ahmed\\\\Database\\\\A'"
      ]
     },
     "execution_count": 13,
     "metadata": {},
     "output_type": "execute_result"
    }
   ],
   "source": [
    "os.getcwd()"
   ]
  },
  {
   "cell_type": "code",
   "execution_count": 14,
   "metadata": {},
   "outputs": [],
   "source": [
    "os.remove(\"New Text Document.txt\")"
   ]
  },
  {
   "cell_type": "markdown",
   "metadata": {},
   "source": [
    "### rename()"
   ]
  },
  {
   "cell_type": "code",
   "execution_count": 15,
   "metadata": {},
   "outputs": [],
   "source": [
    "os.rename(\"New folder\",\"ahmed\") # for folders"
   ]
  },
  {
   "cell_type": "code",
   "execution_count": 16,
   "metadata": {},
   "outputs": [],
   "source": [
    "os.rename(\"mooo.txt\",\"naaa.txt\") # add extension for the files\n"
   ]
  },
  {
   "cell_type": "markdown",
   "metadata": {},
   "source": [
    "### makedirs()"
   ]
  },
  {
   "cell_type": "code",
   "execution_count": 5,
   "metadata": {},
   "outputs": [],
   "source": [
    "os.makedirs(\"mm\\\\oo\\\\pp\\\\ii\") # makine directories "
   ]
  },
  {
   "cell_type": "markdown",
   "metadata": {},
   "source": [
    "### removedirs()"
   ]
  },
  {
   "cell_type": "code",
   "execution_count": 21,
   "metadata": {},
   "outputs": [],
   "source": [
    "os.removedirs(\"mm\\\\oo\\\\pp\\\\ii\") # remove list of directories"
   ]
  },
  {
   "cell_type": "markdown",
   "metadata": {},
   "source": [
    "### getlogin()"
   ]
  },
  {
   "cell_type": "code",
   "execution_count": 22,
   "metadata": {},
   "outputs": [
    {
     "data": {
      "text/plain": [
       "'ak958'"
      ]
     },
     "execution_count": 22,
     "metadata": {},
     "output_type": "execute_result"
    }
   ],
   "source": [
    "os.getlogin() # tells us the current user"
   ]
  },
  {
   "cell_type": "code",
   "execution_count": 23,
   "metadata": {},
   "outputs": [],
   "source": [
    "os.chdir(\"C:\\\\Users\\\\ak958\\\\OneDrive\\\\Desktop\")"
   ]
  },
  {
   "cell_type": "markdown",
   "metadata": {},
   "source": [
    "### stat()"
   ]
  },
  {
   "cell_type": "code",
   "execution_count": 24,
   "metadata": {},
   "outputs": [
    {
     "data": {
      "text/plain": [
       "os.stat_result(st_mode=33206, st_ino=5066549580918703, st_dev=4935572437806671680, st_nlink=1, st_uid=0, st_gid=0, st_size=0, st_atime=1719861923, st_mtime=1719861923, st_ctime=1719861923)"
      ]
     },
     "execution_count": 24,
     "metadata": {},
     "output_type": "execute_result"
    }
   ],
   "source": [
    "os.stat(\"New Text Document.txt\") # display information about files"
   ]
  },
  {
   "cell_type": "code",
   "execution_count": 27,
   "metadata": {},
   "outputs": [
    {
     "name": "stdout",
     "output_type": "stream",
     "text": [
      "0\n",
      "1719861923.7013767\n"
     ]
    }
   ],
   "source": [
    "y = os.stat(\"New Text Document.txt\")\n",
    "print(y.st_size)\n",
    "print(y.st_birthtime)\n"
   ]
  },
  {
   "cell_type": "code",
   "execution_count": 28,
   "metadata": {},
   "outputs": [
    {
     "data": {
      "text/plain": [
       "'Mon Jul  1 22:25:23 2024'"
      ]
     },
     "execution_count": 28,
     "metadata": {},
     "output_type": "execute_result"
    }
   ],
   "source": [
    "import time\n",
    "time.ctime(1719861923.7013767) # converting seconds in to a date"
   ]
  },
  {
   "cell_type": "markdown",
   "metadata": {},
   "source": [
    "### getpid()"
   ]
  },
  {
   "cell_type": "code",
   "execution_count": 3,
   "metadata": {},
   "outputs": [
    {
     "data": {
      "text/plain": [
       "9124"
      ]
     },
     "execution_count": 3,
     "metadata": {},
     "output_type": "execute_result"
    }
   ],
   "source": [
    "os.getpid() # getting the current process which isn't the main "
   ]
  },
  {
   "cell_type": "markdown",
   "metadata": {},
   "source": [
    "### getppid()"
   ]
  },
  {
   "cell_type": "code",
   "execution_count": 4,
   "metadata": {},
   "outputs": [
    {
     "data": {
      "text/plain": [
       "19140"
      ]
     },
     "execution_count": 4,
     "metadata": {},
     "output_type": "execute_result"
    }
   ],
   "source": [
    "os.getppid() # gives us the id of the main process"
   ]
  },
  {
   "cell_type": "markdown",
   "metadata": {},
   "source": [
    "### cpu_count()"
   ]
  },
  {
   "cell_type": "code",
   "execution_count": 5,
   "metadata": {},
   "outputs": [
    {
     "data": {
      "text/plain": [
       "8"
      ]
     },
     "execution_count": 5,
     "metadata": {},
     "output_type": "execute_result"
    }
   ],
   "source": [
    "os.cpu_count() # number of cpus"
   ]
  },
  {
   "cell_type": "markdown",
   "metadata": {},
   "source": [
    "### get_exec_path()"
   ]
  },
  {
   "cell_type": "code",
   "execution_count": 6,
   "metadata": {},
   "outputs": [
    {
     "data": {
      "text/plain": [
       "['c:\\\\Users\\\\ak958\\\\anaconda3\\\\envs\\\\ahmed',\n",
       " 'C:\\\\Users\\\\ak958\\\\anaconda3\\\\envs\\\\ahmed',\n",
       " 'C:\\\\Users\\\\ak958\\\\anaconda3\\\\envs\\\\ahmed\\\\Library\\\\mingw-w64\\\\bin',\n",
       " 'C:\\\\Users\\\\ak958\\\\anaconda3\\\\envs\\\\ahmed\\\\Library\\\\usr\\\\bin',\n",
       " 'C:\\\\Users\\\\ak958\\\\anaconda3\\\\envs\\\\ahmed\\\\Library\\\\bin',\n",
       " 'C:\\\\Users\\\\ak958\\\\anaconda3\\\\envs\\\\ahmed\\\\Scripts',\n",
       " 'C:\\\\Users\\\\ak958\\\\anaconda3\\\\envs\\\\ahmed\\\\bin',\n",
       " 'C:\\\\Users\\\\ak958\\\\anaconda3\\\\condabin',\n",
       " 'C:\\\\Windows\\\\system32',\n",
       " 'C:\\\\Windows',\n",
       " 'C:\\\\Windows\\\\System32\\\\Wbem',\n",
       " 'C:\\\\Windows\\\\System32\\\\WindowsPowerShell\\\\v1.0',\n",
       " 'C:\\\\Windows\\\\System32\\\\OpenSSH',\n",
       " 'C:\\\\Program Files\\\\nodejs',\n",
       " 'C:\\\\Program Files\\\\Git\\\\cmd',\n",
       " 'C:\\\\Users\\\\ak958\\\\AppData\\\\Local\\\\Packages\\\\PythonSoftwareFoundation.Python.3.12_qbz5n2kfra8p0\\\\LocalCache\\\\local-packages\\\\Python312\\\\Scripts',\n",
       " 'c:\\\\Users\\\\ak958\\\\AppData\\\\Local\\\\Programs\\\\cursor\\\\resources\\\\app\\\\bin',\n",
       " 'C:\\\\Program Files (x86)\\\\Windows Kits\\\\10\\\\Windows Performance Toolkit',\n",
       " 'C:\\\\Users\\\\ak958\\\\AppData\\\\Local\\\\Pub\\\\Cache\\\\bin',\n",
       " 'C:\\\\Program Files\\\\Android\\\\Android Studio\\\\jre\\\\bin',\n",
       " 'C:\\\\Users\\\\ak958\\\\AppData\\\\Local\\\\Microsoft\\\\WindowsApps',\n",
       " 'C:\\\\Users\\\\ak958\\\\AppData\\\\Local\\\\Programs\\\\Microsoft VS Code\\\\bin',\n",
       " 'C:\\\\Users\\\\ak958\\\\AppData\\\\Local\\\\Microsoft\\\\WinGet\\\\Packages\\\\Schniz.fnm_Microsoft.Winget.Source_8wekyb3d8bbwe',\n",
       " 'C:\\\\Users\\\\ak958\\\\AppData\\\\Roaming\\\\npm',\n",
       " 'c:\\\\users\\\\ak958\\\\.local\\\\bin',\n",
       " 'C:\\\\flutter\\\\bin',\n",
       " 'C:\\\\android\\\\sdk\\\\latest\\\\bin',\n",
       " 'C:\\\\Users\\\\ak958\\\\AppData\\\\Local\\\\Pub\\\\Cache\\\\bin',\n",
       " '.']"
      ]
     },
     "execution_count": 6,
     "metadata": {},
     "output_type": "execute_result"
    }
   ],
   "source": [
    "os.get_exec_path() # get enviroment variables"
   ]
  },
  {
   "cell_type": "markdown",
   "metadata": {},
   "source": [
    "### environ"
   ]
  },
  {
   "cell_type": "code",
   "execution_count": 8,
   "metadata": {},
   "outputs": [
    {
     "data": {
      "text/plain": [
       "environ{'ALLUSERSPROFILE': 'C:\\\\ProgramData',\n",
       "        'APPDATA': 'C:\\\\Users\\\\ak958\\\\AppData\\\\Roaming',\n",
       "        'APPLICATION_INSIGHTS_NO_DIAGNOSTIC_CHANNEL': '1',\n",
       "        'CHROME_CRASHPAD_PIPE_NAME': '\\\\\\\\.\\\\pipe\\\\crashpad_4316_MCXPJNLOBTFXMFPK',\n",
       "        'COMMONPROGRAMFILES': 'C:\\\\Program Files\\\\Common Files',\n",
       "        'COMMONPROGRAMFILES(X86)': 'C:\\\\Program Files (x86)\\\\Common Files',\n",
       "        'COMMONPROGRAMW6432': 'C:\\\\Program Files\\\\Common Files',\n",
       "        'COMPUTERNAME': 'ALAA',\n",
       "        'COMSPEC': 'C:\\\\Windows\\\\system32\\\\cmd.exe',\n",
       "        'CONDA_DEFAULT_ENV': 'ahmed',\n",
       "        'CONDA_EXE': 'C:\\\\Users\\\\ak958\\\\anaconda3\\\\Scripts\\\\conda.exe',\n",
       "        'CONDA_PREFIX': 'C:\\\\Users\\\\ak958\\\\anaconda3\\\\envs\\\\ahmed',\n",
       "        'CONDA_PROMPT_MODIFIER': '(ahmed) ',\n",
       "        'CONDA_PYTHON_EXE': 'C:\\\\Users\\\\ak958\\\\anaconda3\\\\python.exe',\n",
       "        'CONDA_ROOT': 'C:\\\\Users\\\\ak958\\\\anaconda3',\n",
       "        'CONDA_SHLVL': '1',\n",
       "        'DRIVERDATA': 'C:\\\\Windows\\\\System32\\\\Drivers\\\\DriverData',\n",
       "        'EFC_9840': '1',\n",
       "        'ELECTRON_RUN_AS_NODE': '1',\n",
       "        'HOMEDRIVE': 'C:',\n",
       "        'HOMEPATH': '\\\\Users\\\\ak958',\n",
       "        'JPY_INTERRUPT_EVENT': '1840',\n",
       "        'LOCALAPPDATA': 'C:\\\\Users\\\\ak958\\\\AppData\\\\Local',\n",
       "        'LOGONSERVER': '\\\\\\\\ALAA',\n",
       "        'NUMBER_OF_PROCESSORS': '8',\n",
       "        'ONEDRIVE': 'C:\\\\Users\\\\ak958\\\\OneDrive',\n",
       "        'ONEDRIVECONSUMER': 'C:\\\\Users\\\\ak958\\\\OneDrive',\n",
       "        'ORIGINAL_XDG_CURRENT_DESKTOP': 'undefined',\n",
       "        'OS': 'Windows_NT',\n",
       "        'PATH': 'c:\\\\Users\\\\ak958\\\\anaconda3\\\\envs\\\\ahmed;C:\\\\Users\\\\ak958\\\\anaconda3\\\\envs\\\\ahmed;C:\\\\Users\\\\ak958\\\\anaconda3\\\\envs\\\\ahmed\\\\Library\\\\mingw-w64\\\\bin;C:\\\\Users\\\\ak958\\\\anaconda3\\\\envs\\\\ahmed\\\\Library\\\\usr\\\\bin;C:\\\\Users\\\\ak958\\\\anaconda3\\\\envs\\\\ahmed\\\\Library\\\\bin;C:\\\\Users\\\\ak958\\\\anaconda3\\\\envs\\\\ahmed\\\\Scripts;C:\\\\Users\\\\ak958\\\\anaconda3\\\\envs\\\\ahmed\\\\bin;C:\\\\Users\\\\ak958\\\\anaconda3\\\\condabin;C:\\\\Windows\\\\system32;C:\\\\Windows;C:\\\\Windows\\\\System32\\\\Wbem;C:\\\\Windows\\\\System32\\\\WindowsPowerShell\\\\v1.0;C:\\\\Windows\\\\System32\\\\OpenSSH;C:\\\\Program Files\\\\nodejs;C:\\\\Program Files\\\\Git\\\\cmd;C:\\\\Users\\\\ak958\\\\AppData\\\\Local\\\\Packages\\\\PythonSoftwareFoundation.Python.3.12_qbz5n2kfra8p0\\\\LocalCache\\\\local-packages\\\\Python312\\\\Scripts;c:\\\\Users\\\\ak958\\\\AppData\\\\Local\\\\Programs\\\\cursor\\\\resources\\\\app\\\\bin;C:\\\\Program Files (x86)\\\\Windows Kits\\\\10\\\\Windows Performance Toolkit;C:\\\\Users\\\\ak958\\\\AppData\\\\Local\\\\Pub\\\\Cache\\\\bin;C:\\\\Program Files\\\\Android\\\\Android Studio\\\\jre\\\\bin;C:\\\\Users\\\\ak958\\\\AppData\\\\Local\\\\Microsoft\\\\WindowsApps;C:\\\\Users\\\\ak958\\\\AppData\\\\Local\\\\Programs\\\\Microsoft VS Code\\\\bin;C:\\\\Users\\\\ak958\\\\AppData\\\\Local\\\\Microsoft\\\\WinGet\\\\Packages\\\\Schniz.fnm_Microsoft.Winget.Source_8wekyb3d8bbwe;C:\\\\Users\\\\ak958\\\\AppData\\\\Roaming\\\\npm;c:\\\\users\\\\ak958\\\\.local\\\\bin;C:\\\\flutter\\\\bin;C:\\\\android\\\\sdk\\\\latest\\\\bin;C:\\\\Users\\\\ak958\\\\AppData\\\\Local\\\\Pub\\\\Cache\\\\bin;.',\n",
       "        'PATHEXT': '.COM;.EXE;.BAT;.CMD;.VBS;.VBE;.JS;.JSE;.WSF;.WSH;.MSC',\n",
       "        'PROCESSOR_ARCHITECTURE': 'AMD64',\n",
       "        'PROCESSOR_IDENTIFIER': 'Intel64 Family 6 Model 165 Stepping 2, GenuineIntel',\n",
       "        'PROCESSOR_LEVEL': '6',\n",
       "        'PROCESSOR_REVISION': 'a502',\n",
       "        'PROGRAMDATA': 'C:\\\\ProgramData',\n",
       "        'PROGRAMFILES': 'C:\\\\Program Files',\n",
       "        'PROGRAMFILES(X86)': 'C:\\\\Program Files (x86)',\n",
       "        'PROGRAMW6432': 'C:\\\\Program Files',\n",
       "        'PROMPT': '(ahmed) $P$G',\n",
       "        'PSMODULEPATH': 'C:\\\\Program Files\\\\WindowsPowerShell\\\\Modules;C:\\\\Windows\\\\system32\\\\WindowsPowerShell\\\\v1.0\\\\Modules',\n",
       "        'PUBLIC': 'C:\\\\Users\\\\Public',\n",
       "        'PYDEVD_IPYTHON_COMPATIBLE_DEBUGGING': '1',\n",
       "        'PYTHONIOENCODING': 'utf-8',\n",
       "        'PYTHONUNBUFFERED': '1',\n",
       "        'PYTHONUTF8': '1',\n",
       "        'PYTHON_FROZEN_MODULES': 'on',\n",
       "        'SESSIONNAME': 'Console',\n",
       "        'SSL_CERT_FILE': 'C:\\\\Users\\\\ak958\\\\anaconda3\\\\envs\\\\ahmed\\\\Library\\\\ssl\\\\cacert.pem',\n",
       "        'SYSTEMDRIVE': 'C:',\n",
       "        'SYSTEMROOT': 'C:\\\\Windows',\n",
       "        'TEMP': 'C:\\\\Users\\\\ak958\\\\AppData\\\\Local\\\\Temp',\n",
       "        'TMP': 'C:\\\\Users\\\\ak958\\\\AppData\\\\Local\\\\Temp',\n",
       "        'USERDOMAIN': 'ALAA',\n",
       "        'USERDOMAIN_ROAMINGPROFILE': 'ALAA',\n",
       "        'USERNAME': 'ak958',\n",
       "        'USERPROFILE': 'C:\\\\Users\\\\ak958',\n",
       "        'VSCODE_AMD_ENTRYPOINT': 'vs/workbench/api/node/extensionHostProcess',\n",
       "        'VSCODE_CODE_CACHE_PATH': 'C:\\\\Users\\\\ak958\\\\AppData\\\\Roaming\\\\Code\\\\CachedData\\\\5437499feb04f7a586f677b155b039bc2b3669eb',\n",
       "        'VSCODE_CRASH_REPORTER_PROCESS_TYPE': 'extensionHost',\n",
       "        'VSCODE_CWD': 'C:\\\\Users\\\\ak958\\\\AppData\\\\Local\\\\Programs\\\\Microsoft VS Code',\n",
       "        'VSCODE_HANDLES_UNCAUGHT_ERRORS': 'true',\n",
       "        'VSCODE_IPC_HOOK': '\\\\\\\\.\\\\pipe\\\\9cf370e2-1.90.2-main-sock',\n",
       "        'VSCODE_NLS_CONFIG': '{\"locale\":\"en-us\",\"osLocale\":\"en-us\",\"availableLanguages\":{},\"_languagePackSupport\":true}',\n",
       "        'VSCODE_PID': '4316',\n",
       "        'WINDIR': 'C:\\\\Windows',\n",
       "        'ZES_ENABLE_SYSMAN': '1',\n",
       "        '_CONDA_OLD_CHCP': '437',\n",
       "        '__CONDA_OPENSLL_CERT_FILE_SET': '\"1\"',\n",
       "        '__PSLOCKDOWNPOLICY': '0',\n",
       "        'PYDEVD_USE_FRAME_EVAL': 'NO',\n",
       "        'TERM': 'xterm-color',\n",
       "        'CLICOLOR': '1',\n",
       "        'FORCE_COLOR': '1',\n",
       "        'CLICOLOR_FORCE': '1',\n",
       "        'PAGER': 'cat',\n",
       "        'GIT_PAGER': 'cat',\n",
       "        'MPLBACKEND': 'module://matplotlib_inline.backend_inline'}"
      ]
     },
     "execution_count": 8,
     "metadata": {},
     "output_type": "execute_result"
    }
   ],
   "source": [
    "os.environ"
   ]
  },
  {
   "cell_type": "code",
   "execution_count": 9,
   "metadata": {},
   "outputs": [
    {
     "name": "stdout",
     "output_type": "stream",
     "text": [
      "ALLUSERSPROFILE || C:\\ProgramData\n",
      "APPDATA || C:\\Users\\ak958\\AppData\\Roaming\n",
      "APPLICATION_INSIGHTS_NO_DIAGNOSTIC_CHANNEL || 1\n",
      "CHROME_CRASHPAD_PIPE_NAME || \\\\.\\pipe\\crashpad_4316_MCXPJNLOBTFXMFPK\n",
      "COMMONPROGRAMFILES || C:\\Program Files\\Common Files\n",
      "COMMONPROGRAMFILES(X86) || C:\\Program Files (x86)\\Common Files\n",
      "COMMONPROGRAMW6432 || C:\\Program Files\\Common Files\n",
      "COMPUTERNAME || ALAA\n",
      "COMSPEC || C:\\Windows\\system32\\cmd.exe\n",
      "CONDA_DEFAULT_ENV || ahmed\n",
      "CONDA_EXE || C:\\Users\\ak958\\anaconda3\\Scripts\\conda.exe\n",
      "CONDA_PREFIX || C:\\Users\\ak958\\anaconda3\\envs\\ahmed\n",
      "CONDA_PROMPT_MODIFIER || (ahmed) \n",
      "CONDA_PYTHON_EXE || C:\\Users\\ak958\\anaconda3\\python.exe\n",
      "CONDA_ROOT || C:\\Users\\ak958\\anaconda3\n",
      "CONDA_SHLVL || 1\n",
      "DRIVERDATA || C:\\Windows\\System32\\Drivers\\DriverData\n",
      "EFC_9840 || 1\n",
      "ELECTRON_RUN_AS_NODE || 1\n",
      "HOMEDRIVE || C:\n",
      "HOMEPATH || \\Users\\ak958\n",
      "JPY_INTERRUPT_EVENT || 1840\n",
      "LOCALAPPDATA || C:\\Users\\ak958\\AppData\\Local\n",
      "LOGONSERVER || \\\\ALAA\n",
      "NUMBER_OF_PROCESSORS || 8\n",
      "ONEDRIVE || C:\\Users\\ak958\\OneDrive\n",
      "ONEDRIVECONSUMER || C:\\Users\\ak958\\OneDrive\n",
      "ORIGINAL_XDG_CURRENT_DESKTOP || undefined\n",
      "OS || Windows_NT\n",
      "PATH || c:\\Users\\ak958\\anaconda3\\envs\\ahmed;C:\\Users\\ak958\\anaconda3\\envs\\ahmed;C:\\Users\\ak958\\anaconda3\\envs\\ahmed\\Library\\mingw-w64\\bin;C:\\Users\\ak958\\anaconda3\\envs\\ahmed\\Library\\usr\\bin;C:\\Users\\ak958\\anaconda3\\envs\\ahmed\\Library\\bin;C:\\Users\\ak958\\anaconda3\\envs\\ahmed\\Scripts;C:\\Users\\ak958\\anaconda3\\envs\\ahmed\\bin;C:\\Users\\ak958\\anaconda3\\condabin;C:\\Windows\\system32;C:\\Windows;C:\\Windows\\System32\\Wbem;C:\\Windows\\System32\\WindowsPowerShell\\v1.0;C:\\Windows\\System32\\OpenSSH;C:\\Program Files\\nodejs;C:\\Program Files\\Git\\cmd;C:\\Users\\ak958\\AppData\\Local\\Packages\\PythonSoftwareFoundation.Python.3.12_qbz5n2kfra8p0\\LocalCache\\local-packages\\Python312\\Scripts;c:\\Users\\ak958\\AppData\\Local\\Programs\\cursor\\resources\\app\\bin;C:\\Program Files (x86)\\Windows Kits\\10\\Windows Performance Toolkit;C:\\Users\\ak958\\AppData\\Local\\Pub\\Cache\\bin;C:\\Program Files\\Android\\Android Studio\\jre\\bin;C:\\Users\\ak958\\AppData\\Local\\Microsoft\\WindowsApps;C:\\Users\\ak958\\AppData\\Local\\Programs\\Microsoft VS Code\\bin;C:\\Users\\ak958\\AppData\\Local\\Microsoft\\WinGet\\Packages\\Schniz.fnm_Microsoft.Winget.Source_8wekyb3d8bbwe;C:\\Users\\ak958\\AppData\\Roaming\\npm;c:\\users\\ak958\\.local\\bin;C:\\flutter\\bin;C:\\android\\sdk\\latest\\bin;C:\\Users\\ak958\\AppData\\Local\\Pub\\Cache\\bin;.\n",
      "PATHEXT || .COM;.EXE;.BAT;.CMD;.VBS;.VBE;.JS;.JSE;.WSF;.WSH;.MSC\n",
      "PROCESSOR_ARCHITECTURE || AMD64\n",
      "PROCESSOR_IDENTIFIER || Intel64 Family 6 Model 165 Stepping 2, GenuineIntel\n",
      "PROCESSOR_LEVEL || 6\n",
      "PROCESSOR_REVISION || a502\n",
      "PROGRAMDATA || C:\\ProgramData\n",
      "PROGRAMFILES || C:\\Program Files\n",
      "PROGRAMFILES(X86) || C:\\Program Files (x86)\n",
      "PROGRAMW6432 || C:\\Program Files\n",
      "PROMPT || (ahmed) $P$G\n",
      "PSMODULEPATH || C:\\Program Files\\WindowsPowerShell\\Modules;C:\\Windows\\system32\\WindowsPowerShell\\v1.0\\Modules\n",
      "PUBLIC || C:\\Users\\Public\n",
      "PYDEVD_IPYTHON_COMPATIBLE_DEBUGGING || 1\n",
      "PYTHONIOENCODING || utf-8\n",
      "PYTHONUNBUFFERED || 1\n",
      "PYTHONUTF8 || 1\n",
      "PYTHON_FROZEN_MODULES || on\n",
      "SESSIONNAME || Console\n",
      "SSL_CERT_FILE || C:\\Users\\ak958\\anaconda3\\envs\\ahmed\\Library\\ssl\\cacert.pem\n",
      "SYSTEMDRIVE || C:\n",
      "SYSTEMROOT || C:\\Windows\n",
      "TEMP || C:\\Users\\ak958\\AppData\\Local\\Temp\n",
      "TMP || C:\\Users\\ak958\\AppData\\Local\\Temp\n",
      "USERDOMAIN || ALAA\n",
      "USERDOMAIN_ROAMINGPROFILE || ALAA\n",
      "USERNAME || ak958\n",
      "USERPROFILE || C:\\Users\\ak958\n",
      "VSCODE_AMD_ENTRYPOINT || vs/workbench/api/node/extensionHostProcess\n",
      "VSCODE_CODE_CACHE_PATH || C:\\Users\\ak958\\AppData\\Roaming\\Code\\CachedData\\5437499feb04f7a586f677b155b039bc2b3669eb\n",
      "VSCODE_CRASH_REPORTER_PROCESS_TYPE || extensionHost\n",
      "VSCODE_CWD || C:\\Users\\ak958\\AppData\\Local\\Programs\\Microsoft VS Code\n",
      "VSCODE_HANDLES_UNCAUGHT_ERRORS || true\n",
      "VSCODE_IPC_HOOK || \\\\.\\pipe\\9cf370e2-1.90.2-main-sock\n",
      "VSCODE_NLS_CONFIG || {\"locale\":\"en-us\",\"osLocale\":\"en-us\",\"availableLanguages\":{},\"_languagePackSupport\":true}\n",
      "VSCODE_PID || 4316\n",
      "WINDIR || C:\\Windows\n",
      "ZES_ENABLE_SYSMAN || 1\n",
      "_CONDA_OLD_CHCP || 437\n",
      "__CONDA_OPENSLL_CERT_FILE_SET || \"1\"\n",
      "__PSLOCKDOWNPOLICY || 0\n",
      "PYDEVD_USE_FRAME_EVAL || NO\n",
      "TERM || xterm-color\n",
      "CLICOLOR || 1\n",
      "FORCE_COLOR || 1\n",
      "CLICOLOR_FORCE || 1\n",
      "PAGER || cat\n",
      "GIT_PAGER || cat\n",
      "MPLBACKEND || module://matplotlib_inline.backend_inline\n"
     ]
    }
   ],
   "source": [
    "for i in os.environ.keys():\n",
    "    print(f\"{i} || {os.environ.get(i)}\")"
   ]
  },
  {
   "cell_type": "code",
   "execution_count": 3,
   "metadata": {},
   "outputs": [],
   "source": [
    "os.chdir(\"C:\\\\Users\\\\ak958\\\\OneDrive\\\\Desktop\")"
   ]
  },
  {
   "cell_type": "code",
   "execution_count": 4,
   "metadata": {},
   "outputs": [
    {
     "data": {
      "text/plain": [
       "'C:\\\\Users\\\\ak958\\\\OneDrive\\\\Desktop'"
      ]
     },
     "execution_count": 4,
     "metadata": {},
     "output_type": "execute_result"
    }
   ],
   "source": [
    "os.getcwd()"
   ]
  },
  {
   "cell_type": "markdown",
   "metadata": {},
   "source": [
    "### renames()"
   ]
  },
  {
   "cell_type": "code",
   "execution_count": 6,
   "metadata": {},
   "outputs": [],
   "source": [
    "os.renames(\"mm\\\\oo\\\\pp\\\\ii\",\"ss/ww/qq/tt\") # change more than one name unlike rename change only one"
   ]
  },
  {
   "cell_type": "code",
   "execution_count": 10,
   "metadata": {},
   "outputs": [],
   "source": [
    "os.rename(\"ss/ww/qq/tt\",\"python/mm/oo/yy\") # here it takes folder and move it to another folder with the new name"
   ]
  },
  {
   "cell_type": "markdown",
   "metadata": {},
   "source": [
    "### startfile()"
   ]
  },
  {
   "cell_type": "code",
   "execution_count": 11,
   "metadata": {},
   "outputs": [],
   "source": [
    "os.startfile(\"u.txt\") # to open a file in a directory"
   ]
  },
  {
   "cell_type": "code",
   "execution_count": 13,
   "metadata": {},
   "outputs": [],
   "source": [
    "os.startfile(\"D:/Ahmed/p.txt\")"
   ]
  },
  {
   "cell_type": "code",
   "execution_count": 14,
   "metadata": {},
   "outputs": [],
   "source": [
    "# or we can open a file with startfile \n",
    "os.startfile(\"ss\")"
   ]
  },
  {
   "cell_type": "markdown",
   "metadata": {},
   "source": [
    "### system()"
   ]
  },
  {
   "cell_type": "code",
   "execution_count": 3,
   "metadata": {},
   "outputs": [],
   "source": [
    "# execute commands in cmd\n",
    "os.system(\"python\") # this command will run python in cmd"
   ]
  },
  {
   "cell_type": "code",
   "execution_count": null,
   "metadata": {},
   "outputs": [],
   "source": [
    "os.system(\"system.py\") # ! remmember to use idle for that"
   ]
  },
  {
   "cell_type": "markdown",
   "metadata": {},
   "source": [
    "### walk()"
   ]
  },
  {
   "cell_type": "code",
   "execution_count": 2,
   "metadata": {},
   "outputs": [
    {
     "data": {
      "text/plain": [
       "<generator object walk at 0x000002344E2FE710>"
      ]
     },
     "execution_count": 2,
     "metadata": {},
     "output_type": "execute_result"
    }
   ],
   "source": [
    "os.walk(\"C:/Users/ak958/OneDrive/Desktop/python\") # display a tree of things"
   ]
  },
  {
   "cell_type": "code",
   "execution_count": 3,
   "metadata": {},
   "outputs": [
    {
     "data": {
      "text/plain": [
       "<generator object ahmed at 0x000002344E33DC70>"
      ]
     },
     "execution_count": 3,
     "metadata": {},
     "output_type": "execute_result"
    }
   ],
   "source": [
    "def ahmed():\n",
    "    yield \"mohamed\"\n",
    "    yield \"ahmed\"\n",
    "    yield \"nora\"\n",
    "\n",
    "ahmed()"
   ]
  },
  {
   "cell_type": "code",
   "execution_count": 4,
   "metadata": {},
   "outputs": [
    {
     "name": "stdout",
     "output_type": "stream",
     "text": [
      "mohamed\n",
      "name 1 == mohamed\n",
      "ahmed\n",
      "name 2 == ahmed\n",
      "nora\n",
      "name 3 == nora\n"
     ]
    }
   ],
   "source": [
    "n = 0\n",
    "for i  in ahmed():\n",
    "    print(i)\n",
    "    n+=1\n",
    "    print(f\"name {n} == {i}\")\n"
   ]
  },
  {
   "cell_type": "code",
   "execution_count": 5,
   "metadata": {},
   "outputs": [
    {
     "name": "stdout",
     "output_type": "stream",
     "text": [
      "('C:/Users/ak958/OneDrive/Desktop/python', ['mm'], [])\n",
      "('C:/Users/ak958/OneDrive/Desktop/python\\\\mm', ['oo'], [])\n",
      "('C:/Users/ak958/OneDrive/Desktop/python\\\\mm\\\\oo', ['yy'], [])\n",
      "('C:/Users/ak958/OneDrive/Desktop/python\\\\mm\\\\oo\\\\yy', [], [])\n"
     ]
    }
   ],
   "source": [
    "for i in os.walk(\"C:/Users/ak958/OneDrive/Desktop/python\"):\n",
    "    print(i)"
   ]
  },
  {
   "cell_type": "code",
   "execution_count": 6,
   "metadata": {},
   "outputs": [
    {
     "name": "stdout",
     "output_type": "stream",
     "text": [
      "AL-msar = C:/Users/ak958/OneDrive/Desktop/python\n",
      "AL-mjldat = ['mm']\n",
      "AL-mlfat = []\n",
      "AL-msar = C:/Users/ak958/OneDrive/Desktop/python\\mm\n",
      "AL-mjldat = ['oo']\n",
      "AL-mlfat = []\n",
      "AL-msar = C:/Users/ak958/OneDrive/Desktop/python\\mm\\oo\n",
      "AL-mjldat = ['yy']\n",
      "AL-mlfat = []\n",
      "AL-msar = C:/Users/ak958/OneDrive/Desktop/python\\mm\\oo\\yy\n",
      "AL-mjldat = []\n",
      "AL-mlfat = []\n"
     ]
    }
   ],
   "source": [
    "for p,d,f in os.walk(\"C:/Users/ak958/OneDrive/Desktop/python\"):\n",
    "    print(f\"AL-msar = {p}\")\n",
    "    print(f\"AL-mjldat = {d}\")\n",
    "    print(f\"AL-mlfat = {f}\")"
   ]
  },
  {
   "cell_type": "markdown",
   "metadata": {},
   "source": [
    "### unlink()"
   ]
  },
  {
   "cell_type": "code",
   "execution_count": 9,
   "metadata": {},
   "outputs": [
    {
     "ename": "PermissionError",
     "evalue": "[WinError 5] Access is denied: 'C:/Users/ak958/OneDrive/Desktop/o'",
     "output_type": "error",
     "traceback": [
      "\u001b[1;31m---------------------------------------------------------------------------\u001b[0m",
      "\u001b[1;31mPermissionError\u001b[0m                           Traceback (most recent call last)",
      "Cell \u001b[1;32mIn[9], line 1\u001b[0m\n\u001b[1;32m----> 1\u001b[0m \u001b[43mos\u001b[49m\u001b[38;5;241;43m.\u001b[39;49m\u001b[43munlink\u001b[49m\u001b[43m(\u001b[49m\u001b[38;5;124;43m\"\u001b[39;49m\u001b[38;5;124;43mC:/Users/ak958/OneDrive/Desktop/o\u001b[39;49m\u001b[38;5;124;43m\"\u001b[39;49m\u001b[43m)\u001b[49m\n",
      "\u001b[1;31mPermissionError\u001b[0m: [WinError 5] Access is denied: 'C:/Users/ak958/OneDrive/Desktop/o'"
     ]
    }
   ],
   "source": [
    "os.unlink(\"C:/Users/ak958/OneDrive/Desktop/o\") # it removes only files not folders"
   ]
  },
  {
   "cell_type": "code",
   "execution_count": 10,
   "metadata": {},
   "outputs": [],
   "source": [
    "os.unlink(\"C:/Users/ak958/OneDrive/Desktop/o/p.txt\") "
   ]
  },
  {
   "cell_type": "markdown",
   "metadata": {},
   "source": [
    "### path.getmtime()"
   ]
  },
  {
   "cell_type": "code",
   "execution_count": 11,
   "metadata": {},
   "outputs": [
    {
     "data": {
      "text/plain": [
       "1720010853.681082"
      ]
     },
     "execution_count": 11,
     "metadata": {},
     "output_type": "execute_result"
    }
   ],
   "source": [
    "# getting the last modification time on a file\n",
    "os.path.getmtime(\"C:/Users/ak958/OneDrive/Desktop/python/mm/oo/yy/u.txt\")"
   ]
  },
  {
   "cell_type": "code",
   "execution_count": 12,
   "metadata": {},
   "outputs": [
    {
     "data": {
      "text/plain": [
       "'Wed Jul  3 15:47:33 2024'"
      ]
     },
     "execution_count": 12,
     "metadata": {},
     "output_type": "execute_result"
    }
   ],
   "source": [
    "import time\n",
    "time.ctime(1720010853.681082)"
   ]
  },
  {
   "cell_type": "markdown",
   "metadata": {},
   "source": [
    "### path.getatime()"
   ]
  },
  {
   "cell_type": "code",
   "execution_count": 13,
   "metadata": {},
   "outputs": [
    {
     "data": {
      "text/plain": [
       "1720010869.727171"
      ]
     },
     "execution_count": 13,
     "metadata": {},
     "output_type": "execute_result"
    }
   ],
   "source": [
    "os.path.getatime(\"C:/Users/ak958/OneDrive/Desktop/python/mm/oo/yy/u.txt\") # display the last time the file opened\n"
   ]
  },
  {
   "cell_type": "code",
   "execution_count": 14,
   "metadata": {},
   "outputs": [
    {
     "data": {
      "text/plain": [
       "'Wed Jul  3 15:47:49 2024'"
      ]
     },
     "execution_count": 14,
     "metadata": {},
     "output_type": "execute_result"
    }
   ],
   "source": [
    "time.ctime(1720010869.727171)"
   ]
  },
  {
   "cell_type": "markdown",
   "metadata": {},
   "source": [
    "### path.getctime()"
   ]
  },
  {
   "cell_type": "code",
   "execution_count": 15,
   "metadata": {},
   "outputs": [
    {
     "data": {
      "text/plain": [
       "1720010869.679964"
      ]
     },
     "execution_count": 15,
     "metadata": {},
     "output_type": "execute_result"
    }
   ],
   "source": [
    "os.path.getctime(\"C:/Users/ak958/OneDrive/Desktop/python/mm/oo/yy/u.txt\") # return the time the file was created "
   ]
  },
  {
   "cell_type": "code",
   "execution_count": 16,
   "metadata": {},
   "outputs": [
    {
     "data": {
      "text/plain": [
       "'Wed Jul  3 15:47:49 2024'"
      ]
     },
     "execution_count": 16,
     "metadata": {},
     "output_type": "execute_result"
    }
   ],
   "source": [
    "time.ctime(1720010869.679964)"
   ]
  },
  {
   "cell_type": "markdown",
   "metadata": {},
   "source": [
    "### path.exist()"
   ]
  },
  {
   "cell_type": "code",
   "execution_count": 18,
   "metadata": {},
   "outputs": [
    {
     "data": {
      "text/plain": [
       "True"
      ]
     },
     "execution_count": 18,
     "metadata": {},
     "output_type": "execute_result"
    }
   ],
   "source": [
    "os.path.exists(\"C:/Users/ak958/OneDrive/Desktop/python/mm/oo/yy/u.txt\") # make sure that a path is exist"
   ]
  },
  {
   "cell_type": "code",
   "execution_count": 19,
   "metadata": {},
   "outputs": [
    {
     "data": {
      "text/plain": [
       "False"
      ]
     },
     "execution_count": 19,
     "metadata": {},
     "output_type": "execute_result"
    }
   ],
   "source": [
    "os.path.exists(\"C:/Users/ak958/OneDrive/Desktop/python/mm/oo/yy/l.txt\")"
   ]
  },
  {
   "cell_type": "markdown",
   "metadata": {},
   "source": [
    "### path.isdir()"
   ]
  },
  {
   "cell_type": "code",
   "execution_count": 21,
   "metadata": {},
   "outputs": [
    {
     "data": {
      "text/plain": [
       "False"
      ]
     },
     "execution_count": 21,
     "metadata": {},
     "output_type": "execute_result"
    }
   ],
   "source": [
    "os.path.isdir(\"C:/Users/ak958/OneDrive/Desktop/python/mm/oo/yy/u.txt\") # make sure that the path is a file path or a folder path\n",
    "# ! file path false"
   ]
  },
  {
   "cell_type": "code",
   "execution_count": 22,
   "metadata": {},
   "outputs": [
    {
     "data": {
      "text/plain": [
       "True"
      ]
     },
     "execution_count": 22,
     "metadata": {},
     "output_type": "execute_result"
    }
   ],
   "source": [
    "os.path.isdir(\"C:/Users/ak958/OneDrive/Desktop/python/mm/oo/yy\") # make sure that the path is a file path or a folder path\n",
    "# * folder path true"
   ]
  },
  {
   "cell_type": "markdown",
   "metadata": {},
   "source": [
    "### path.isfile()"
   ]
  },
  {
   "cell_type": "code",
   "execution_count": 23,
   "metadata": {},
   "outputs": [
    {
     "data": {
      "text/plain": [
       "True"
      ]
     },
     "execution_count": 23,
     "metadata": {},
     "output_type": "execute_result"
    }
   ],
   "source": [
    "os.path.isfile(\"C:/Users/ak958/OneDrive/Desktop/python/mm/oo/yy/u.txt\") # make sure that the path is a file path or a folder path\n",
    "# * file path true"
   ]
  },
  {
   "cell_type": "code",
   "execution_count": 27,
   "metadata": {},
   "outputs": [
    {
     "data": {
      "text/plain": [
       "False"
      ]
     },
     "execution_count": 27,
     "metadata": {},
     "output_type": "execute_result"
    }
   ],
   "source": [
    "os.path.isfile(\"C:/Users/ak958/OneDrive/Desktop/python/mm/oo/yy\") # make sure that the path is a file path or a folder path\n",
    "# ! folder path false"
   ]
  },
  {
   "cell_type": "code",
   "execution_count": 2,
   "metadata": {},
   "outputs": [
    {
     "data": {
      "text/plain": [
       "'d:\\\\Ahmed\\\\Work\\\\os'"
      ]
     },
     "execution_count": 2,
     "metadata": {},
     "output_type": "execute_result"
    }
   ],
   "source": [
    "os.getcwd()"
   ]
  },
  {
   "cell_type": "markdown",
   "metadata": {},
   "source": [
    "### path.basename()"
   ]
  },
  {
   "cell_type": "code",
   "execution_count": 4,
   "metadata": {},
   "outputs": [
    {
     "data": {
      "text/plain": [
       "'u.txt'"
      ]
     },
     "execution_count": 4,
     "metadata": {},
     "output_type": "execute_result"
    }
   ],
   "source": [
    "# return the name of last file or folder\n",
    "os.path.basename(\"C:/Users/ak958/OneDrive/Desktop/python/mm/oo/yy/u.txt\")"
   ]
  },
  {
   "cell_type": "code",
   "execution_count": 5,
   "metadata": {},
   "outputs": [
    {
     "data": {
      "text/plain": [
       "'os'"
      ]
     },
     "execution_count": 5,
     "metadata": {},
     "output_type": "execute_result"
    }
   ],
   "source": [
    "os.path.basename(os.getcwd())"
   ]
  },
  {
   "cell_type": "markdown",
   "metadata": {},
   "source": [
    "### path.dirname()"
   ]
  },
  {
   "cell_type": "code",
   "execution_count": 6,
   "metadata": {},
   "outputs": [
    {
     "data": {
      "text/plain": [
       "'C:/Users/ak958/OneDrive/Desktop/python/mm/oo/yy'"
      ]
     },
     "execution_count": 6,
     "metadata": {},
     "output_type": "execute_result"
    }
   ],
   "source": [
    "# return the directory of the file\n",
    "os.path.dirname(\"C:/Users/ak958/OneDrive/Desktop/python/mm/oo/yy/u.txt\")"
   ]
  },
  {
   "cell_type": "markdown",
   "metadata": {},
   "source": [
    "### path.join()"
   ]
  },
  {
   "cell_type": "code",
   "execution_count": 8,
   "metadata": {},
   "outputs": [
    {
     "data": {
      "text/plain": [
       "'C:\\\\Users\\\\ak958\\\\OneDrive\\\\Desktop\\\\python\\\\mm\\\\oo\\\\yy\\\\u.txt\\\\Ahmed'"
      ]
     },
     "execution_count": 8,
     "metadata": {},
     "output_type": "execute_result"
    }
   ],
   "source": [
    "# join paths\n",
    "os.path.join(\"C:\\\\Users\\\\ak958\\\\OneDrive\\\\Desktop\\\\python\\\\mm\\\\oo\\\\yy\\\\u.txt\",\"Ahmed\")"
   ]
  },
  {
   "cell_type": "code",
   "execution_count": 9,
   "metadata": {},
   "outputs": [
    {
     "data": {
      "text/plain": [
       "'C:\\\\Users\\\\ak958\\\\OneDrive\\\\Desktop\\\\python\\\\mm\\\\oo\\\\yy\\\\u.txt\\\\Ahmed\\\\ahmed'"
      ]
     },
     "execution_count": 9,
     "metadata": {},
     "output_type": "execute_result"
    }
   ],
   "source": [
    "os.path.join(\"C:\\\\Users\\\\ak958\\\\OneDrive\\\\Desktop\\\\python\\\\mm\\\\oo\\\\yy\\\\u.txt\",\"Ahmed\",\"ahmed\")"
   ]
  },
  {
   "cell_type": "code",
   "execution_count": 12,
   "metadata": {},
   "outputs": [
    {
     "name": "stdout",
     "output_type": "stream",
     "text": [
      "C:\\Users\\ak958\\OneDrive\\Desktop\\python\\mm\\oo\\yy\\mohamed.txt\n",
      "C:\\Users\\ak958\\OneDrive\\Desktop\\python\\mm\\oo\\yy\\python.pdf\n",
      "C:\\Users\\ak958\\OneDrive\\Desktop\\python\\mm\\oo\\yy\\rt.exe\n"
     ]
    }
   ],
   "source": [
    "m=[\"mohamed.txt\",\"python.pdf\",\"rt.exe\"]\n",
    "for i in m:\n",
    "    print(os.path.join(\"C:\\\\Users\\\\ak958\\\\OneDrive\\\\Desktop\\\\python\\\\mm\\\\oo\\\\yy\\\\\",i))"
   ]
  },
  {
   "cell_type": "markdown",
   "metadata": {},
   "source": [
    "### path.split()"
   ]
  },
  {
   "cell_type": "code",
   "execution_count": 13,
   "metadata": {},
   "outputs": [
    {
     "data": {
      "text/plain": [
       "('C:/Users/ak958/OneDrive/Desktop/python/mm/oo/yy', 'u.txt')"
      ]
     },
     "execution_count": 13,
     "metadata": {},
     "output_type": "execute_result"
    }
   ],
   "source": [
    "# split the path from the last element in the path (path,file) \n",
    "os.path.split(\"C:/Users/ak958/OneDrive/Desktop/python/mm/oo/yy/u.txt\")"
   ]
  },
  {
   "cell_type": "code",
   "execution_count": 14,
   "metadata": {},
   "outputs": [
    {
     "data": {
      "text/plain": [
       "('C:/Users/ak958/OneDrive/Desktop/python/mm/oo', 'yy')"
      ]
     },
     "execution_count": 14,
     "metadata": {},
     "output_type": "execute_result"
    }
   ],
   "source": [
    "os.path.split(\"C:/Users/ak958/OneDrive/Desktop/python/mm/oo/yy\")"
   ]
  },
  {
   "cell_type": "markdown",
   "metadata": {},
   "source": [
    "### path.splitext()"
   ]
  },
  {
   "cell_type": "code",
   "execution_count": 15,
   "metadata": {},
   "outputs": [
    {
     "data": {
      "text/plain": [
       "('C:/Users/ak958/OneDrive/Desktop/python/mm/oo/yy/u', '.txt')"
      ]
     },
     "execution_count": 15,
     "metadata": {},
     "output_type": "execute_result"
    }
   ],
   "source": [
    "# split the extension of the file from the file\n",
    "os.path.splitext(\"C:/Users/ak958/OneDrive/Desktop/python/mm/oo/yy/u.txt\")"
   ]
  },
  {
   "cell_type": "markdown",
   "metadata": {},
   "source": [
    "### path.splitdriver()"
   ]
  },
  {
   "cell_type": "code",
   "execution_count": 16,
   "metadata": {},
   "outputs": [
    {
     "data": {
      "text/plain": [
       "('C:', '/Users/ak958/OneDrive/Desktop/python/mm/oo/yy/u.txt')"
      ]
     },
     "execution_count": 16,
     "metadata": {},
     "output_type": "execute_result"
    }
   ],
   "source": [
    "# split the driver from the path\n",
    "os.path.splitdrive(\"C:/Users/ak958/OneDrive/Desktop/python/mm/oo/yy/u.txt\")"
   ]
  },
  {
   "cell_type": "code",
   "execution_count": 17,
   "metadata": {},
   "outputs": [
    {
     "data": {
      "text/plain": [
       "'C:'"
      ]
     },
     "execution_count": 17,
     "metadata": {},
     "output_type": "execute_result"
    }
   ],
   "source": [
    "os.path.splitdrive(\"C:/Users/ak958/OneDrive/Desktop/python/mm/oo/yy/u.txt\")[0]"
   ]
  },
  {
   "cell_type": "markdown",
   "metadata": {},
   "source": [
    "### os.path.getsize()"
   ]
  },
  {
   "cell_type": "code",
   "execution_count": 18,
   "metadata": {},
   "outputs": [
    {
     "data": {
      "text/plain": [
       "5"
      ]
     },
     "execution_count": 18,
     "metadata": {},
     "output_type": "execute_result"
    }
   ],
   "source": [
    "# getting the size of a file\n",
    "os.path.getsize(\"C:/Users/ak958/OneDrive/Desktop/python/mm/oo/yy/u.txt\")"
   ]
  },
  {
   "cell_type": "markdown",
   "metadata": {},
   "source": [
    "### path.abspath()"
   ]
  },
  {
   "cell_type": "code",
   "execution_count": 19,
   "metadata": {},
   "outputs": [
    {
     "data": {
      "text/plain": [
       "'C:\\\\Users\\\\ak958\\\\OneDrive\\\\Desktop\\\\python\\\\mm\\\\oo\\\\yy\\\\u.txt'"
      ]
     },
     "execution_count": 19,
     "metadata": {},
     "output_type": "execute_result"
    }
   ],
   "source": [
    "# return a the same path or a new path\n",
    "os.path.abspath(\"C:/Users/ak958/OneDrive/Desktop/python/mm/oo/yy/u.txt\")"
   ]
  },
  {
   "cell_type": "code",
   "execution_count": 20,
   "metadata": {},
   "outputs": [
    {
     "data": {
      "text/plain": [
       "'d:\\\\Ahmed\\\\Work\\\\os\\\\hi'"
      ]
     },
     "execution_count": 20,
     "metadata": {},
     "output_type": "execute_result"
    }
   ],
   "source": [
    "os.path.abspath(\"hi\") # added it tp the current directory"
   ]
  },
  {
   "cell_type": "code",
   "execution_count": 21,
   "metadata": {},
   "outputs": [
    {
     "data": {
      "text/plain": [
       "'d:\\\\Ahmed\\\\Work\\\\os'"
      ]
     },
     "execution_count": 21,
     "metadata": {},
     "output_type": "execute_result"
    }
   ],
   "source": [
    "os.getcwd()"
   ]
  },
  {
   "cell_type": "code",
   "execution_count": 23,
   "metadata": {},
   "outputs": [
    {
     "name": "stdout",
     "output_type": "stream",
     "text": [
      "d:\\Ahmed\\Work\\os\\332.pdf\n",
      "d:\\Ahmed\\Work\\os\\ww4334.exe\n",
      "d:\\Ahmed\\Work\\os\\dfgdf.txt\n"
     ]
    }
   ],
   "source": [
    "h = [\"332.pdf\",\"ww4334.exe\",\"dfgdf.txt\"] \n",
    "for i in h: # added to the current directory\n",
    "    print(os.path.abspath(i))"
   ]
  },
  {
   "cell_type": "markdown",
   "metadata": {},
   "source": [
    "### path.commonpath()"
   ]
  },
  {
   "cell_type": "code",
   "execution_count": 24,
   "metadata": {},
   "outputs": [
    {
     "data": {
      "text/plain": [
       "'C:\\\\Users\\\\ak958\\\\OneDrive\\\\Desktop\\\\python\\\\mm\\\\oo'"
      ]
     },
     "execution_count": 24,
     "metadata": {},
     "output_type": "execute_result"
    }
   ],
   "source": [
    "# getting the common path\n",
    "p = [\"C:/Users/ak958/OneDrive/Desktop/python/mm/oo/yy/u.txt\",\"C:/Users/ak958/OneDrive/Desktop/python/mm/oo\"]\n",
    "os.path.commonpath(p)"
   ]
  },
  {
   "cell_type": "markdown",
   "metadata": {},
   "source": [
    "### path.commonprefix()"
   ]
  },
  {
   "cell_type": "code",
   "execution_count": 25,
   "metadata": {},
   "outputs": [
    {
     "data": {
      "text/plain": [
       "'C:/Users/ak958/o'"
      ]
     },
     "execution_count": 25,
     "metadata": {},
     "output_type": "execute_result"
    }
   ],
   "source": [
    "# return the common path with the first letter common if it was found\n",
    "p = [\"C:/Users/ak958/oou\",\"C:/Users/ak958/oip\",\"C:/Users/ak958/ort\"]\n",
    "os.path.commonprefix(p)"
   ]
  },
  {
   "cell_type": "code",
   "execution_count": 26,
   "metadata": {},
   "outputs": [
    {
     "data": {
      "text/plain": [
       "'C:/Users/ak958/or'"
      ]
     },
     "execution_count": 26,
     "metadata": {},
     "output_type": "execute_result"
    }
   ],
   "source": [
    "p = [\"C:/Users/ak958/oru\",\"C:/Users/ak958/orp\",\"C:/Users/ak958/ort\"]\n",
    "os.path.commonprefix(p)"
   ]
  },
  {
   "cell_type": "markdown",
   "metadata": {},
   "source": [
    "### path.isabs()"
   ]
  },
  {
   "cell_type": "code",
   "execution_count": 27,
   "metadata": {},
   "outputs": [
    {
     "data": {
      "text/plain": [
       "False"
      ]
     },
     "execution_count": 27,
     "metadata": {},
     "output_type": "execute_result"
    }
   ],
   "source": [
    "# return a boolean tells us if there is a abs directory or not\n",
    "os.path.isabs(\"pp.txt\")"
   ]
  },
  {
   "cell_type": "code",
   "execution_count": 28,
   "metadata": {},
   "outputs": [
    {
     "data": {
      "text/plain": [
       "True"
      ]
     },
     "execution_count": 28,
     "metadata": {},
     "output_type": "execute_result"
    }
   ],
   "source": [
    "os.path.isabs(\"C:/Users/ak958/pp.txt\")"
   ]
  },
  {
   "cell_type": "code",
   "execution_count": 29,
   "metadata": {},
   "outputs": [],
   "source": [
    "while True:\n",
    "    i = input(\"filename >: \")\n",
    "    if os.path.isabs(i) == True:\n",
    "        o = os.path.split(i)[1]\n",
    "        print(o)"
   ]
  },
  {
   "cell_type": "markdown",
   "metadata": {},
   "source": [
    "### path.normcase()"
   ]
  },
  {
   "cell_type": "code",
   "execution_count": 3,
   "metadata": {},
   "outputs": [
    {
     "data": {
      "text/plain": [
       "'c:\\\\users\\\\ak958\\\\pp.txt'"
      ]
     },
     "execution_count": 3,
     "metadata": {},
     "output_type": "execute_result"
    }
   ],
   "source": [
    "# return the directory in lower case\n",
    "os.path.normcase(\"C:/Users/AK958/PP.txt\")"
   ]
  },
  {
   "cell_type": "markdown",
   "metadata": {},
   "source": [
    "### another usage for os.startfile()"
   ]
  },
  {
   "cell_type": "code",
   "execution_count": null,
   "metadata": {},
   "outputs": [],
   "source": [
    "# the file will open and it will be printed\n",
    "os.startfile(\"C:/Users/ak958/OneDrive/Desktop/solutions_level2_1.txt\",\"print\")"
   ]
  }
 ],
 "metadata": {
  "kernelspec": {
   "display_name": "ahmed",
   "language": "python",
   "name": "python3"
  },
  "language_info": {
   "codemirror_mode": {
    "name": "ipython",
    "version": 3
   },
   "file_extension": ".py",
   "mimetype": "text/x-python",
   "name": "python",
   "nbconvert_exporter": "python",
   "pygments_lexer": "ipython3",
   "version": "3.12.3"
  }
 },
 "nbformat": 4,
 "nbformat_minor": 2
}
